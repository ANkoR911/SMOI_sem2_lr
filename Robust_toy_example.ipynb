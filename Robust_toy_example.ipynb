{
 "cells": [
  {
   "cell_type": "code",
   "execution_count": 20,
   "metadata": {},
   "outputs": [],
   "source": [
    "import numpy as np\n",
    "import matplotlib.pyplot as plt\n",
    "import random\n",
    "from scipy import stats\n",
    "%matplotlib inline"
   ]
  },
  {
   "cell_type": "markdown",
   "metadata": {},
   "source": [
    "## Робастное оценивание (Robust estimation)\n",
    "\n",
    "Термин \"робастность\" был введен для выделения класса статистических процедур, слабочувствительных к небольшим изменениям начальных предположений. \n",
    "\n",
    "Например, никто не предполагал, что в выборке окажутся выбросы. Более того, сразу утверждать является ли выброс - редким/экстремальным наблюдением или явной ошибкой не представяется возможным. \n",
    "\n",
    "Но допустим, задачу получать оценки для меры центральной тенденции и масштаба распределения данных никто не отменял. \n",
    "Тогда каким образом это можно сделать?"
   ]
  },
  {
   "cell_type": "code",
   "execution_count": 16,
   "metadata": {},
   "outputs": [
    {
     "data": {
      "image/png": "[encoded data removed]",
      "text/plain": [
       "<Figure size 432x288 with 1 Axes>"
      ]
     },
     "metadata": {
      "needs_background": "light"
     },
     "output_type": "display_data"
    }
   ],
   "source": [
    "# Наша выборка\n",
    "\n",
    "x = [-2.21, -1.84, -0.95, -0.91, -0.36, -0.19, -0.11, -0.1, 0.18, 0.30, 0.43, 0.51, 0.64, 0.67, 0.93, 1.22, 1.35, 1.73, 5.8, 12.6]\n",
    "\n",
    "random.shuffle(x)\n",
    "\n",
    "plt.plot(x, 'o')\n",
    "plt.grid()"
   ]
  },
  {
   "cell_type": "markdown",
   "metadata": {},
   "source": [
    "### Среднее арифметическое (не робастная оценка)\n",
    "$\\overline{X} = \\frac{1}{n} \\sum_{i=0}^{n} X_i$"
   ]
  },
  {
   "cell_type": "code",
   "execution_count": 30,
   "metadata": {},
   "outputs": [
    {
     "name": "stdout",
     "output_type": "stream",
     "text": [
      "0.9845\n"
     ]
    }
   ],
   "source": [
    "mean = np.mean(x)\n",
    "print(round(mean, 4))"
   ]
  },
  {
   "cell_type": "markdown",
   "metadata": {},
   "source": [
    "### Медиана\n",
    "$\\tilde{X} = median(X) $"
   ]
  },
  {
   "cell_type": "code",
   "execution_count": 31,
   "metadata": {},
   "outputs": [
    {
     "name": "stdout",
     "output_type": "stream",
     "text": [
      "0.365\n"
     ]
    }
   ],
   "source": [
    "median = np.median(x)\n",
    "print(round(median, 4))"
   ]
  },
  {
   "cell_type": "markdown",
   "metadata": {},
   "source": [
    "### Усеченное среднее\n",
    "$\\alpha$ - доля выбросов в выборке, $0<= \\alpha <= 0.5$ <br>\n",
    "$ n $ - размер выборки, <br>\n",
    "$ r = [\\alpha n]$ - наибольшее целое, меньшее или равное $\\alpha n$, <br>\n",
    "$ g = \\alpha n - r$ - дробная часть $\\alpha n$\n",
    "Тогда усеченное среднее вычисляется как:\n",
    "$$ \\bar X_T(\\alpha) = \\frac{1}{n(1-2\\alpha)}[(1-g)(X_{(r+1)}+X_{(n-r)})+\\sum_{i=r+2}^{n-r-1} X_{(i)}]$$"
   ]
  },
  {
   "cell_type": "code",
   "execution_count": 32,
   "metadata": {},
   "outputs": [
    {
     "name": "stdout",
     "output_type": "stream",
     "text": [
      "0.05 \t|\t 0.5167\n",
      "0.1 \t|\t 0.3338\n",
      "0.15 \t|\t 0.3257\n",
      "0.2 \t|\t 0.3433\n"
     ]
    }
   ],
   "source": [
    "for alpha in [0.05, 0.1, 0.15, 0.2]:\n",
    "    print(alpha, '\\t|\\t',round(stats.trim_mean(x, alpha), 4))"
   ]
  },
  {
   "cell_type": "markdown",
   "metadata": {},
   "source": [
    "### Среднеквадратическое отклонение (СКО)\n",
    "$ \\hat \\sigma = \\sqrt{\\frac{1}{n-1}\\sum_{i=0}^{n} (X_i - \\overline X)^2}$"
   ]
  },
  {
   "cell_type": "code",
   "execution_count": 37,
   "metadata": {},
   "outputs": [
    {
     "name": "stdout",
     "output_type": "stream",
     "text": [
      "3.0968\n"
     ]
    }
   ],
   "source": [
    "std = np.std(x)\n",
    "print(round(std, 4))"
   ]
  },
  {
   "cell_type": "markdown",
   "metadata": {},
   "source": [
    "### MAD - median absolute deviation\n",
    "$MAD = median(|X_i-\\tilde{X}|), \\tilde{X} = median(X)$"
   ]
  },
  {
   "cell_type": "code",
   "execution_count": 38,
   "metadata": {},
   "outputs": [
    {
     "name": "stdout",
     "output_type": "stream",
     "text": [
      "0.645\n"
     ]
    }
   ],
   "source": [
    "mad = np.median([abs(x_i - median) for x_i in x])\n",
    "print(round(mad, 4))"
   ]
  },
  {
   "cell_type": "markdown",
   "metadata": {},
   "source": [
    "## Причины появление выбросов:"
   ]
  },
  {
   "cell_type": "code",
   "execution_count": null,
   "metadata": {},
   "outputs": [],
   "source": []
  }
 ],
 "metadata": {
  "kernelspec": {
   "display_name": "Python 3",
   "language": "python",
   "name": "python3"
  },
  "language_info": {
   "codemirror_mode": {
    "name": "ipython",
    "version": 3
   },
   "file_extension": ".py",
   "mimetype": "text/x-python",
   "name": "python",
   "nbconvert_exporter": "python",
   "pygments_lexer": "ipython3",
   "version": "3.7.3"
  }
 },
 "nbformat": 4,
 "nbformat_minor": 2
}
